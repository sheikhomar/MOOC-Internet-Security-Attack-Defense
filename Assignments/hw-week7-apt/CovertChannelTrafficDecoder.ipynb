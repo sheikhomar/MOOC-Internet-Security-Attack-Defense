{
 "cells": [
  {
   "cell_type": "markdown",
   "metadata": {},
   "source": [
    "# Decoding Covert Channel Traffic"
   ]
  },
  {
   "cell_type": "markdown",
   "metadata": {},
   "source": [
    "Ensure that capture file is filtered first. Then use `tshark` to expert the TTL field to a text file as follows:"
   ]
  },
  {
   "cell_type": "markdown",
   "metadata": {},
   "source": [
    "    tshark -r filtered.pcap -T fields -e ip.ttl > ttl-values"
   ]
  },
  {
   "cell_type": "code",
   "execution_count": 45,
   "metadata": {
    "collapsed": false
   },
   "outputs": [
    {
     "name": "stdout",
     "output_type": "stream",
     "text": [
      "~\u0000®\\Nn¦Î.4\u000e\\F&\u000eî4®\\¶v¦Æ4\u000e\\&\u001e",
      "¦4®\\Æöî64\u000e\\¶öö\u0016P®\\Nn¦Î.4\u000e\\F&\u000eî4®\\¶v¦Æ4\u000e\\&\u001e",
      "¦4®\\Æöî64\u000e\\¶öö\u0016P®\\Nn¦Î.4\u000e\\F&\u000eî4®\n",
      "\n",
      "\n",
      "ÿQ£±iY1ÑËñ£¹yÙñ\u0011ËQ£IiY9Ëñ£Ùi}áYËQ£9\t\u0011ÉaËñ£I\t\té{¯Q£±iY1ÑËñ£¹yÙñ\u0011ËQ£IiY9Ëñ£Ùi}áYËQ£9\t\u0011ÉaËñ£I\t\té{¯Q£±iY1ÑËñ£¹yÙñ\u0011ËQ\n",
      "\n",
      "\n",
      "~\u0000u:rivest,p:badpw,u:minec,p:diAxe,u:cowly,p:mooh!\n",
      "u:rivest,p:badpw,u:minec,p:diAxe,u:cowly,p:mooh!\n",
      "u:rivest,p:badpw,u\n",
      "\n",
      "\n",
      "ÿÅÓÅÓÅÓÅ¾ÓÅÓÅÞõÅÓÅÓÅÓÅ¾ÓÅÓÅÞõÅÓÅÓ\n"
     ]
    }
   ],
   "source": [
    "def bits2string_v1(b):\n",
    "    return ''.join(chr(int(''.join(x), 2)) for x in zip(*[iter(b)]*8))\n",
    "\n",
    "def bits2string_v2(b):\n",
    "    return ''.join(chr(int(''.join(tuple(reversed(x))), 2)) for x in zip(*[iter(b)]*8))\n",
    "\n",
    "\n",
    "with open('ttl-values') as f:\n",
    "    lines = f.readlines()\n",
    "    zero_ones_54 = [('1' if x.strip() == '54' else '0') for x in lines]\n",
    "    zero_ones_64 = [('1' if x.strip() == '64' else '0') for x in lines]\n",
    "    print(bits2string_v1(zero_ones_54))\n",
    "    print('\\n')\n",
    "    print(bits2string_v1(zero_ones_64))  \n",
    "    print('\\n')\n",
    "    print(bits2string_v2(zero_ones_54))\n",
    "    print('\\n')\n",
    "    print(bits2string_v2(zero_ones_64))  "
   ]
  },
  {
   "cell_type": "code",
   "execution_count": null,
   "metadata": {
    "collapsed": true
   },
   "outputs": [],
   "source": []
  }
 ],
 "metadata": {
  "kernelspec": {
   "display_name": "Python 3",
   "language": "python",
   "name": "python3"
  },
  "language_info": {
   "codemirror_mode": {
    "name": "ipython",
    "version": 3
   },
   "file_extension": ".py",
   "mimetype": "text/x-python",
   "name": "python",
   "nbconvert_exporter": "python",
   "pygments_lexer": "ipython3",
   "version": "3.6.0"
  }
 },
 "nbformat": 4,
 "nbformat_minor": 2
}
