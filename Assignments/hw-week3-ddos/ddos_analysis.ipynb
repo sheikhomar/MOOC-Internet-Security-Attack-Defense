{
 "cells": [
  {
   "cell_type": "markdown",
   "metadata": {
    "deletable": true,
    "editable": true
   },
   "source": [
    "# Analysis of a DNS-based DDoS attack"
   ]
  },
  {
   "cell_type": "markdown",
   "metadata": {
    "collapsed": false,
    "deletable": true,
    "editable": true
   },
   "source": [
    "## Data Preparation"
   ]
  },
  {
   "cell_type": "markdown",
   "metadata": {
    "deletable": true,
    "editable": true
   },
   "source": [
    "First, we need to convert the pcap file into a text file that we can use as input to Pandas for later analysis. To convert, we use `tshark`. We can install `tshark` as follows:\n",
    "\n",
    "> `sudo apt-get install tshark`\n",
    "\n",
    "Note that the conversation process is time-consuming. In addition, there may be error messages such as \"Error Traversing Database for ipnum...\". We can simply ignore these message as it will not affect the output. "
   ]
  },
  {
   "cell_type": "code",
   "execution_count": 1,
   "metadata": {
    "collapsed": false,
    "deletable": true,
    "editable": true
   },
   "outputs": [],
   "source": [
    "# This operation is extremely timing consuming. At least you only need to do it at ONCE!\n",
    "!tshark -n -r 'ipstresser_booter.pcap' -E separator=\\;  -E header=y -T fields \\\n",
    "-e frame.time_epoch \\\n",
    "-e ip.proto \\\n",
    "-e ip.src \\\n",
    "-e ip.dst \\\n",
    "-e udp.srcport \\\n",
    "-e udp.dstport \\\n",
    "-e tcp.srcport \\\n",
    "-e tcp.dstport \\\n",
    "-e frame.len \\\n",
    "-e dns.qry.type \\\n",
    "-e dns.qry.name \\\n",
    "-e dns.resp.name > pcap.txt"
   ]
  },
  {
   "cell_type": "markdown",
   "metadata": {},
   "source": [
    "Import the libraries that we need to prepare and analyse the data."
   ]
  },
  {
   "cell_type": "code",
   "execution_count": 2,
   "metadata": {
    "collapsed": true
   },
   "outputs": [],
   "source": [
    "import pandas as pd #more info at http://pandas.pydata.org/\n",
    "import numpy as np #more info at http://www.numpy.org/\n",
    "import matplotlib.pyplot as plt #some examples for you at http://matplotlib.org/gallery.html \n",
    "from matplotlib import gridspec #more info at http://matplotlib.org/api/gridspec_api.html\n",
    "import seaborn as sns\n",
    "\n",
    "plt.style.use('ggplot') #For improving the visualization style (options: grayscale, bmh, dark_background, ggplot, and fivethirtyeight)\n",
    "\n",
    "#Magic line: to show the plots inline in the Jupyter Notebook\n",
    "%matplotlib inline \n",
    "\n",
    "#import warnings\n",
    "#warnings.filterwarnings('ignore') #To avoid showing annoying warns"
   ]
  },
  {
   "cell_type": "markdown",
   "metadata": {},
   "source": [
    "Import the converted file into Pandas "
   ]
  },
  {
   "cell_type": "code",
   "execution_count": 3,
   "metadata": {
    "collapsed": true
   },
   "outputs": [],
   "source": [
    "df = pd.read_csv('pcap.txt', error_bad_lines=False, sep=';')"
   ]
  },
  {
   "cell_type": "code",
   "execution_count": 4,
   "metadata": {
    "collapsed": false
   },
   "outputs": [
    {
     "data": {
      "text/html": [
       "<div>\n",
       "<table border=\"1\" class=\"dataframe\">\n",
       "  <thead>\n",
       "    <tr style=\"text-align: right;\">\n",
       "      <th></th>\n",
       "      <th>frame.time_epoch</th>\n",
       "      <th>ip.proto</th>\n",
       "      <th>ip.src</th>\n",
       "      <th>ip.dst</th>\n",
       "      <th>udp.srcport</th>\n",
       "      <th>udp.dstport</th>\n",
       "      <th>tcp.srcport</th>\n",
       "      <th>tcp.dstport</th>\n",
       "      <th>frame.len</th>\n",
       "      <th>dns.qry.type</th>\n",
       "      <th>dns.qry.name</th>\n",
       "      <th>dns.resp.name</th>\n",
       "    </tr>\n",
       "  </thead>\n",
       "  <tbody>\n",
       "    <tr>\n",
       "      <th>0</th>\n",
       "      <td>1.419263e+09</td>\n",
       "      <td>1</td>\n",
       "      <td>162.8.125.17</td>\n",
       "      <td>172.31.28.132</td>\n",
       "      <td>NaN</td>\n",
       "      <td>NaN</td>\n",
       "      <td>NaN</td>\n",
       "      <td>NaN</td>\n",
       "      <td>62</td>\n",
       "      <td>NaN</td>\n",
       "      <td>NaN</td>\n",
       "      <td>NaN</td>\n",
       "    </tr>\n",
       "    <tr>\n",
       "      <th>1</th>\n",
       "      <td>1.419263e+09</td>\n",
       "      <td>1</td>\n",
       "      <td>172.31.28.132</td>\n",
       "      <td>162.8.125.17</td>\n",
       "      <td>NaN</td>\n",
       "      <td>NaN</td>\n",
       "      <td>NaN</td>\n",
       "      <td>NaN</td>\n",
       "      <td>62</td>\n",
       "      <td>NaN</td>\n",
       "      <td>NaN</td>\n",
       "      <td>NaN</td>\n",
       "    </tr>\n",
       "    <tr>\n",
       "      <th>2</th>\n",
       "      <td>1.419263e+09</td>\n",
       "      <td>17</td>\n",
       "      <td>172.31.28.132</td>\n",
       "      <td>172.31.0.2</td>\n",
       "      <td>51139.0</td>\n",
       "      <td>53.0</td>\n",
       "      <td>NaN</td>\n",
       "      <td>NaN</td>\n",
       "      <td>103</td>\n",
       "      <td>1.0</td>\n",
       "      <td>ip-172-31-28-132.us-west-2.compute.internal</td>\n",
       "      <td>NaN</td>\n",
       "    </tr>\n",
       "    <tr>\n",
       "      <th>3</th>\n",
       "      <td>1.419263e+09</td>\n",
       "      <td>17</td>\n",
       "      <td>172.31.28.132</td>\n",
       "      <td>172.31.0.2</td>\n",
       "      <td>51139.0</td>\n",
       "      <td>53.0</td>\n",
       "      <td>NaN</td>\n",
       "      <td>NaN</td>\n",
       "      <td>103</td>\n",
       "      <td>28.0</td>\n",
       "      <td>ip-172-31-28-132.us-west-2.compute.internal</td>\n",
       "      <td>NaN</td>\n",
       "    </tr>\n",
       "    <tr>\n",
       "      <th>4</th>\n",
       "      <td>1.419263e+09</td>\n",
       "      <td>17</td>\n",
       "      <td>172.31.0.2</td>\n",
       "      <td>172.31.28.132</td>\n",
       "      <td>53.0</td>\n",
       "      <td>51139.0</td>\n",
       "      <td>NaN</td>\n",
       "      <td>NaN</td>\n",
       "      <td>164</td>\n",
       "      <td>28.0</td>\n",
       "      <td>ip-172-31-28-132.us-west-2.compute.internal</td>\n",
       "      <td>us-west-2.compute.internal</td>\n",
       "    </tr>\n",
       "  </tbody>\n",
       "</table>\n",
       "</div>"
      ],
      "text/plain": [
       "   frame.time_epoch ip.proto         ip.src         ip.dst  udp.srcport  \\\n",
       "0      1.419263e+09        1   162.8.125.17  172.31.28.132          NaN   \n",
       "1      1.419263e+09        1  172.31.28.132   162.8.125.17          NaN   \n",
       "2      1.419263e+09       17  172.31.28.132     172.31.0.2      51139.0   \n",
       "3      1.419263e+09       17  172.31.28.132     172.31.0.2      51139.0   \n",
       "4      1.419263e+09       17     172.31.0.2  172.31.28.132         53.0   \n",
       "\n",
       "   udp.dstport  tcp.srcport  tcp.dstport  frame.len  dns.qry.type  \\\n",
       "0          NaN          NaN          NaN         62           NaN   \n",
       "1          NaN          NaN          NaN         62           NaN   \n",
       "2         53.0          NaN          NaN        103           1.0   \n",
       "3         53.0          NaN          NaN        103          28.0   \n",
       "4      51139.0          NaN          NaN        164          28.0   \n",
       "\n",
       "                                  dns.qry.name               dns.resp.name  \n",
       "0                                          NaN                         NaN  \n",
       "1                                          NaN                         NaN  \n",
       "2  ip-172-31-28-132.us-west-2.compute.internal                         NaN  \n",
       "3  ip-172-31-28-132.us-west-2.compute.internal                         NaN  \n",
       "4  ip-172-31-28-132.us-west-2.compute.internal  us-west-2.compute.internal  "
      ]
     },
     "execution_count": 4,
     "metadata": {},
     "output_type": "execute_result"
    }
   ],
   "source": [
    "df.head()"
   ]
  },
  {
   "cell_type": "markdown",
   "metadata": {},
   "source": [
    "Convert column values"
   ]
  },
  {
   "cell_type": "code",
   "execution_count": 5,
   "metadata": {
    "collapsed": true
   },
   "outputs": [],
   "source": [
    "def timestamp2datetime(series):\n",
    "    return  pd.to_datetime(series,unit='s',errors='coerce')\n",
    "\n",
    "def bytes2bits(series):\n",
    "    try:\n",
    "        return  series*8\n",
    "    except AttributeError:\n",
    "        return series\n",
    "\n",
    "df['frame.time_epoch']=timestamp2datetime(df['frame.time_epoch'])\n",
    "df['frame.len']=bytes2bits(df['frame.len'])"
   ]
  },
  {
   "cell_type": "code",
   "execution_count": 72,
   "metadata": {
    "collapsed": false,
    "deletable": true,
    "editable": true
   },
   "outputs": [
    {
     "data": {
      "text/html": [
       "<div>\n",
       "<table border=\"1\" class=\"dataframe\">\n",
       "  <thead>\n",
       "    <tr style=\"text-align: right;\">\n",
       "      <th></th>\n",
       "      <th>frame.time_epoch</th>\n",
       "      <th>ip.proto</th>\n",
       "      <th>ip.src</th>\n",
       "      <th>ip.dst</th>\n",
       "      <th>udp.srcport</th>\n",
       "      <th>udp.dstport</th>\n",
       "      <th>tcp.srcport</th>\n",
       "      <th>tcp.dstport</th>\n",
       "      <th>frame.len</th>\n",
       "      <th>dns.qry.type</th>\n",
       "      <th>dns.qry.name</th>\n",
       "      <th>dns.resp.name</th>\n",
       "      <th>frame.len.bits</th>\n",
       "    </tr>\n",
       "  </thead>\n",
       "  <tbody>\n",
       "    <tr>\n",
       "      <th>0</th>\n",
       "      <td>2014-12-22 15:38:42.525945000</td>\n",
       "      <td>1</td>\n",
       "      <td>162.8.125.17</td>\n",
       "      <td>172.31.28.132</td>\n",
       "      <td>NaN</td>\n",
       "      <td>NaN</td>\n",
       "      <td>NaN</td>\n",
       "      <td>NaN</td>\n",
       "      <td>496</td>\n",
       "      <td>NaN</td>\n",
       "      <td>NaN</td>\n",
       "      <td>NaN</td>\n",
       "      <td>496</td>\n",
       "    </tr>\n",
       "    <tr>\n",
       "      <th>1</th>\n",
       "      <td>2014-12-22 15:38:42.525981999</td>\n",
       "      <td>1</td>\n",
       "      <td>172.31.28.132</td>\n",
       "      <td>162.8.125.17</td>\n",
       "      <td>NaN</td>\n",
       "      <td>NaN</td>\n",
       "      <td>NaN</td>\n",
       "      <td>NaN</td>\n",
       "      <td>496</td>\n",
       "      <td>NaN</td>\n",
       "      <td>NaN</td>\n",
       "      <td>NaN</td>\n",
       "      <td>496</td>\n",
       "    </tr>\n",
       "    <tr>\n",
       "      <th>2</th>\n",
       "      <td>2014-12-22 15:38:42.648396000</td>\n",
       "      <td>17</td>\n",
       "      <td>172.31.28.132</td>\n",
       "      <td>172.31.0.2</td>\n",
       "      <td>51139.0</td>\n",
       "      <td>53.0</td>\n",
       "      <td>NaN</td>\n",
       "      <td>NaN</td>\n",
       "      <td>824</td>\n",
       "      <td>1.0</td>\n",
       "      <td>ip-172-31-28-132.us-west-2.compute.internal</td>\n",
       "      <td>NaN</td>\n",
       "      <td>824</td>\n",
       "    </tr>\n",
       "    <tr>\n",
       "      <th>3</th>\n",
       "      <td>2014-12-22 15:38:42.648422000</td>\n",
       "      <td>17</td>\n",
       "      <td>172.31.28.132</td>\n",
       "      <td>172.31.0.2</td>\n",
       "      <td>51139.0</td>\n",
       "      <td>53.0</td>\n",
       "      <td>NaN</td>\n",
       "      <td>NaN</td>\n",
       "      <td>824</td>\n",
       "      <td>28.0</td>\n",
       "      <td>ip-172-31-28-132.us-west-2.compute.internal</td>\n",
       "      <td>NaN</td>\n",
       "      <td>824</td>\n",
       "    </tr>\n",
       "    <tr>\n",
       "      <th>4</th>\n",
       "      <td>2014-12-22 15:38:42.648629000</td>\n",
       "      <td>17</td>\n",
       "      <td>172.31.0.2</td>\n",
       "      <td>172.31.28.132</td>\n",
       "      <td>53.0</td>\n",
       "      <td>51139.0</td>\n",
       "      <td>NaN</td>\n",
       "      <td>NaN</td>\n",
       "      <td>1312</td>\n",
       "      <td>28.0</td>\n",
       "      <td>ip-172-31-28-132.us-west-2.compute.internal</td>\n",
       "      <td>us-west-2.compute.internal</td>\n",
       "      <td>1312</td>\n",
       "    </tr>\n",
       "  </tbody>\n",
       "</table>\n",
       "</div>"
      ],
      "text/plain": [
       "               frame.time_epoch ip.proto         ip.src         ip.dst  \\\n",
       "0 2014-12-22 15:38:42.525945000        1   162.8.125.17  172.31.28.132   \n",
       "1 2014-12-22 15:38:42.525981999        1  172.31.28.132   162.8.125.17   \n",
       "2 2014-12-22 15:38:42.648396000       17  172.31.28.132     172.31.0.2   \n",
       "3 2014-12-22 15:38:42.648422000       17  172.31.28.132     172.31.0.2   \n",
       "4 2014-12-22 15:38:42.648629000       17     172.31.0.2  172.31.28.132   \n",
       "\n",
       "   udp.srcport  udp.dstport  tcp.srcport  tcp.dstport  frame.len  \\\n",
       "0          NaN          NaN          NaN          NaN        496   \n",
       "1          NaN          NaN          NaN          NaN        496   \n",
       "2      51139.0         53.0          NaN          NaN        824   \n",
       "3      51139.0         53.0          NaN          NaN        824   \n",
       "4         53.0      51139.0          NaN          NaN       1312   \n",
       "\n",
       "   dns.qry.type                                 dns.qry.name  \\\n",
       "0           NaN                                          NaN   \n",
       "1           NaN                                          NaN   \n",
       "2           1.0  ip-172-31-28-132.us-west-2.compute.internal   \n",
       "3          28.0  ip-172-31-28-132.us-west-2.compute.internal   \n",
       "4          28.0  ip-172-31-28-132.us-west-2.compute.internal   \n",
       "\n",
       "                dns.resp.name  frame.len.bits  \n",
       "0                         NaN             496  \n",
       "1                         NaN             496  \n",
       "2                         NaN             824  \n",
       "3                         NaN             824  \n",
       "4  us-west-2.compute.internal            1312  "
      ]
     },
     "execution_count": 72,
     "metadata": {},
     "output_type": "execute_result"
    }
   ],
   "source": [
    "df.head()"
   ]
  },
  {
   "cell_type": "markdown",
   "metadata": {},
   "source": [
    "## Data Analysis"
   ]
  },
  {
   "cell_type": "markdown",
   "metadata": {
    "collapsed": false
   },
   "source": [
    "### 1. How many records are in the entire trace?"
   ]
  },
  {
   "cell_type": "code",
   "execution_count": 8,
   "metadata": {
    "collapsed": false
   },
   "outputs": [
    {
     "data": {
      "text/plain": [
       "(185576, 13)"
      ]
     },
     "execution_count": 8,
     "metadata": {},
     "output_type": "execute_result"
    }
   ],
   "source": [
    "df.shape"
   ]
  },
  {
   "cell_type": "markdown",
   "metadata": {},
   "source": [
    "### 2. What is the duration of the trace ?"
   ]
  },
  {
   "cell_type": "code",
   "execution_count": 15,
   "metadata": {
    "collapsed": false
   },
   "outputs": [
    {
     "data": {
      "text/plain": [
       "Timedelta('0 days 00:04:58.455321')"
      ]
     },
     "execution_count": 15,
     "metadata": {},
     "output_type": "execute_result"
    }
   ],
   "source": [
    "first_timestamp = df['frame.time_epoch'][0]\n",
    "last_timestamp = df['frame.time_epoch'][df.shape[0]-1]\n",
    "last_timestamp - first_timestamp"
   ]
  },
  {
   "cell_type": "markdown",
   "metadata": {},
   "source": [
    "### 3. Which is the main target IP involved in the attack?"
   ]
  },
  {
   "cell_type": "code",
   "execution_count": 50,
   "metadata": {
    "collapsed": false
   },
   "outputs": [
    {
     "data": {
      "text/plain": [
       "'172.31.28.132'"
      ]
     },
     "execution_count": 50,
     "metadata": {},
     "output_type": "execute_result"
    }
   ],
   "source": [
    "df['ip.dst'].value_counts().index[0]"
   ]
  },
  {
   "cell_type": "markdown",
   "metadata": {},
   "source": [
    "### 4. What is the \\16 subnet of the main target IP involved in the attack?"
   ]
  },
  {
   "cell_type": "code",
   "execution_count": 55,
   "metadata": {
    "collapsed": false
   },
   "outputs": [
    {
     "data": {
      "text/plain": [
       "'172.31.0.0'"
      ]
     },
     "execution_count": 55,
     "metadata": {},
     "output_type": "execute_result"
    }
   ],
   "source": [
    "main_target_ip = df['ip.dst'].value_counts().index[0]\n",
    "octets = main_target_ip.split('.')\n",
    "'{}.{}.0.0'.format(octets[0], octets[1])"
   ]
  },
  {
   "cell_type": "markdown",
   "metadata": {},
   "source": [
    "### 5. Which is the IP protocols most used in the trace?"
   ]
  },
  {
   "cell_type": "code",
   "execution_count": 28,
   "metadata": {
    "collapsed": false
   },
   "outputs": [
    {
     "data": {
      "text/plain": [
       "17      182879\n",
       "1,17      2655\n",
       "1            6\n",
       "1,6          5\n",
       "6            5\n",
       "Name: ip.proto, dtype: int64"
      ]
     },
     "execution_count": 28,
     "metadata": {},
     "output_type": "execute_result"
    }
   ],
   "source": [
    "df['ip.proto'].value_counts()"
   ]
  },
  {
   "cell_type": "markdown",
   "metadata": {},
   "source": [
    "According to [Wikipedia](https://en.wikipedia.org/wiki/List_of_IP_protocol_numbers), the above protocol numbers correspond to:\n",
    "\n",
    "- 17: UDP\n",
    "-  1: ICMP\n",
    "-  6: TCP"
   ]
  },
  {
   "cell_type": "markdown",
   "metadata": {},
   "source": [
    "### 6. Which is/are the main source port(s)?"
   ]
  },
  {
   "cell_type": "code",
   "execution_count": 35,
   "metadata": {
    "collapsed": false
   },
   "outputs": [
    {
     "data": {
      "text/plain": [
       "53.0       184348\n",
       "137.0           6\n",
       "34494.0         4\n",
       "37716.0         4\n",
       "33639.0         4\n",
       "Name: udp.srcport, dtype: int64"
      ]
     },
     "execution_count": 35,
     "metadata": {},
     "output_type": "execute_result"
    }
   ],
   "source": [
    "df['udp.srcport'].value_counts().head()"
   ]
  },
  {
   "cell_type": "markdown",
   "metadata": {},
   "source": [
    "### 7. Which is/are the main destination port(s)?"
   ]
  },
  {
   "cell_type": "code",
   "execution_count": 41,
   "metadata": {
    "collapsed": false
   },
   "outputs": [
    {
     "data": {
      "text/plain": [
       "80.0       183172\n",
       "53.0         1176\n",
       "137.0           6\n",
       "33639.0         4\n",
       "35472.0         4\n",
       "Name: udp.dstport, dtype: int64"
      ]
     },
     "execution_count": 41,
     "metadata": {},
     "output_type": "execute_result"
    }
   ],
   "source": [
    "df['udp.dstport'].value_counts().head()"
   ]
  },
  {
   "cell_type": "markdown",
   "metadata": {},
   "source": [
    "### 8. Which DNS query was not used in the attack?"
   ]
  },
  {
   "cell_type": "code",
   "execution_count": 44,
   "metadata": {
    "collapsed": false
   },
   "outputs": [
    {
     "data": {
      "text/plain": [
       "bls.gov                                        36550\n",
       "nlhosting.nl                                   26930\n",
       "sandia.gov                                     23677\n",
       "isc.org                                        18898\n",
       "verisign.com                                   15687\n",
       "1x1.cz                                         15461\n",
       "sema.cz                                        13945\n",
       "ietf.org                                       13575\n",
       "irs.gov                                        13028\n",
       "doc.gov                                         5421\n",
       "ip-172-31-28-132.us-west-2.compute.internal     2352\n",
       "Name: dns.qry.name, dtype: int64"
      ]
     },
     "execution_count": 44,
     "metadata": {},
     "output_type": "execute_result"
    }
   ],
   "source": [
    "df['dns.qry.name'].value_counts()"
   ]
  },
  {
   "cell_type": "markdown",
   "metadata": {},
   "source": [
    "### 9. How much was the data rate peak of the attack [Mbits/second]?"
   ]
  },
  {
   "cell_type": "markdown",
   "metadata": {},
   "source": [
    "<img src=\"question-9.png\" style=\"width:500px;\" />"
   ]
  },
  {
   "cell_type": "code",
   "execution_count": 135,
   "metadata": {
    "collapsed": false
   },
   "outputs": [],
   "source": [
    "def get_attack_records(type = 0):\n",
    "    top1_target_ip = df['ip.dst'].value_counts().index[0]\n",
    "    target_ip_octets = top1_target_ip.split('.')\n",
    "    target_network = '{}.{}'.format(target_ip_octets[0], target_ip_octets[1])\n",
    "    top1_target_ip_proto = df['ip.proto'].value_counts().index[0]\n",
    "    top_dnsquery=df['dns.qry.name'].value_counts().index[0]\n",
    "    udp_srcip_dstip_top1=df[df['ip.dst']==top1_target_ip]['ip.src'].value_counts()\n",
    "    udp_srcport_top1=df[df['ip.dst']==top1_target_ip]['udp.srcport'].value_counts()\n",
    "    udp_dstport_top1=df[df['ip.dst']==top1_target_ip]['udp.dstport'].value_counts()\n",
    "\n",
    "    if type == 1:\n",
    "        # MANUAL SELECTION: Considering the attack from ONE to ONE port!!!\n",
    "        attack_records=df[df['ip.dst']==top1_target_ip]\\\n",
    "                        [df['ip.src'].str.contains(target_network)==False]\\\n",
    "                        [df['ip.proto']==top1_target_ip_proto]\\\n",
    "                        [df['udp.srcport']==udp_srcport_top1.index[0]]\\\n",
    "                        [df['udp.dstport']==udp_dstport_top1.index[0]]\n",
    "    elif type == 2:\n",
    "        # MANUAL SELECTION: Considering the attack from ONE to MANY ports!!!\n",
    "        attack_records=df[df['ip.dst']==top1_target_ip]\\\n",
    "                         [df['ip.src'].str.contains(target_network)==False]\\\n",
    "                         [df['ip.proto']==top1_target_ip_proto]\\\n",
    "                         [df['udp.srcport']==udp_srcport_top1.index[0]]\\\n",
    "                         [df['dns.qry.name'].str.contains(top_dnsquery)==True]\n",
    "    elif type == 3:\n",
    "        # MANUAL SELECTION: Considering the attack from MANY to ONE port!!!\n",
    "        attack_records=df[df['ip.dst']==top1_target_ip]\\\n",
    "                        [df['ip.src'].str.contains(target_network)==False]\\\n",
    "                        [df['ip.proto']==top1_target_ip_proto]\\\n",
    "                        [df['udp.dstport']==udp_dstport_top1.index[0]]\\\n",
    "                        [df['dns.qry.name'].str.contains(top_dnsquery)==True]\n",
    "    elif type == 4:\n",
    "        # MANUAL SELECTION: Considering the attack from MANY to MANY portS!!!\n",
    "        attack_records=df[df['ip.dst']==top1_target_ip]\\\n",
    "                        [df['ip.src'].str.contains(target_network)==False]\\\n",
    "                        [df['ip.proto']==top1_target_ip_proto]\\\n",
    "                        [df['udp.srcport']==udp_srcport_top1.index[0]]\\\n",
    "                        [df['udp.dstport']==udp_dstport_top1.index[0]]\\\n",
    "                        [df['dns.qry.name'].str.contains(top_dnsquery)==True]\n",
    "    else:\n",
    "        attack_records = []\n",
    "    return attack_records\n",
    "\n",
    "\n",
    "def plot_attack(attack_records):\n",
    "    overall_bps=df.set_index(['frame.time_epoch']).groupby(pd.TimeGrouper(freq='S')).agg(['sum'])['frame.len']\n",
    "    attack_bps=attack_records.set_index(['frame.time_epoch']).groupby(pd.TimeGrouper(freq='S')).agg(['sum'])['frame.len']\n",
    "    attack_bps_median=attack_bps.median()\n",
    "    attack_bps_peak=max(attack_bps['sum'])\n",
    "    \n",
    "    remaining_records=df[~df.isin(attack_records)]\n",
    "    remaining_bps=remaining_records.set_index(['frame.time_epoch']).groupby(pd.TimeGrouper(freq='S')).agg(['sum'])['frame.len']\n",
    "    fig = plt.figure(figsize=(12,4))\n",
    "\n",
    "    ax = plt.subplot2grid((1,1), (0,0))\n",
    "\n",
    "    attack_bps.plot(ax=ax, lw=1)\n",
    "    ax.fill_between(attack_bps.index, 0, attack_bps['sum'],color='r')\n",
    "\n",
    "    ax.annotate(str(attack_bps_peak/10e6)+' Mb/s [peak]', (str(attack_bps[attack_bps['sum'] == attack_bps_peak].index.values[0]), attack_bps_peak),\n",
    "                 xytext=(0, 0), textcoords='offset points')\n",
    "    ax.annotate(str(attack_bps_median[0]/10e6)+' Mb/s [median]', (str(attack_bps.index.values[0]), attack_bps_median),\n",
    "                 xytext=(90, 0), textcoords='offset points')\n",
    "\n",
    "    remaining_bps.plot(ax=ax)\n",
    "\n",
    "    ax.legend(['Attacks records','Remaining records'])\n",
    "    ax.set_ylabel(\"Data [bit]\")\n",
    "    ax.set_xlabel(\"Time [second]\")\n",
    "    \n",
    "    \n",
    "    print('Total Records: {} records (100%).'.format(len(df)))\n",
    "    print('Attack Records: {} records ({}%).'.format(len(attack_records), np.ceil(len(attack_records)*100/len(df))))"
   ]
  },
  {
   "cell_type": "code",
   "execution_count": 136,
   "metadata": {
    "collapsed": false
   },
   "outputs": [
    {
     "name": "stderr",
     "output_type": "stream",
     "text": [
      "/home/omar/anaconda3/lib/python3.6/site-packages/ipykernel/__main__.py:13: UserWarning: Boolean Series key will be reindexed to match DataFrame index.\n"
     ]
    },
    {
     "name": "stdout",
     "output_type": "stream",
     "text": [
      "Total Records: 185576 records (100%).\n",
      "Attack Records: 180522 records (98.0%).\n"
     ]
    },
    {
     "data": {
      "image/png": "[encoded data removed]",
      "text/plain": [
       "<matplotlib.figure.Figure at 0x7f661dfacdd8>"
      ]
     },
     "metadata": {},
     "output_type": "display_data"
    }
   ],
   "source": [
    "plot_attack(get_attack_records(1))"
   ]
  },
  {
   "cell_type": "code",
   "execution_count": 137,
   "metadata": {
    "collapsed": false
   },
   "outputs": [
    {
     "name": "stderr",
     "output_type": "stream",
     "text": [
      "/home/omar/anaconda3/lib/python3.6/site-packages/ipykernel/__main__.py:16: UserWarning: Boolean Series key will be reindexed to match DataFrame index.\n"
     ]
    },
    {
     "name": "stdout",
     "output_type": "stream",
     "text": [
      "Total Records: 185576 records (100%).\n",
      "Attack Records: 36193 records (20.0%).\n"
     ]
    },
    {
     "data": {
      "image/png": "[encoded data removed]",
      "text/plain": [
       "<matplotlib.figure.Figure at 0x7f661df194e0>"
      ]
     },
     "metadata": {},
     "output_type": "display_data"
    }
   ],
   "source": [
    "plot_attack(get_attack_records(2))"
   ]
  },
  {
   "cell_type": "code",
   "execution_count": 138,
   "metadata": {
    "collapsed": false
   },
   "outputs": [
    {
     "name": "stderr",
     "output_type": "stream",
     "text": [
      "/home/omar/anaconda3/lib/python3.6/site-packages/ipykernel/__main__.py:19: UserWarning: Boolean Series key will be reindexed to match DataFrame index.\n"
     ]
    },
    {
     "name": "stdout",
     "output_type": "stream",
     "text": [
      "Total Records: 185576 records (100%).\n",
      "Attack Records: 36193 records (20.0%).\n"
     ]
    },
    {
     "data": {
      "image/png": "[encoded data removed]",
      "text/plain": [
       "<matplotlib.figure.Figure at 0x7f661e077080>"
      ]
     },
     "metadata": {},
     "output_type": "display_data"
    }
   ],
   "source": [
    "plot_attack(get_attack_records(3))"
   ]
  },
  {
   "cell_type": "code",
   "execution_count": 139,
   "metadata": {
    "collapsed": false
   },
   "outputs": [
    {
     "name": "stderr",
     "output_type": "stream",
     "text": [
      "/home/omar/anaconda3/lib/python3.6/site-packages/ipykernel/__main__.py:22: UserWarning: Boolean Series key will be reindexed to match DataFrame index.\n"
     ]
    },
    {
     "name": "stdout",
     "output_type": "stream",
     "text": [
      "Total Records: 185576 records (100%).\n",
      "Attack Records: 36193 records (20.0%).\n"
     ]
    },
    {
     "data": {
      "image/png": "[encoded data removed]",
      "text/plain": [
       "<matplotlib.figure.Figure at 0x7f661e3de7b8>"
      ]
     },
     "metadata": {},
     "output_type": "display_data"
    }
   ],
   "source": [
    "plot_attack(get_attack_records(4))"
   ]
  },
  {
   "cell_type": "markdown",
   "metadata": {},
   "source": [
    "### 10. What was the attack duration?"
   ]
  },
  {
   "cell_type": "code",
   "execution_count": 147,
   "metadata": {
    "collapsed": false
   },
   "outputs": [
    {
     "name": "stderr",
     "output_type": "stream",
     "text": [
      "/home/omar/anaconda3/lib/python3.6/site-packages/ipykernel/__main__.py:13: UserWarning: Boolean Series key will be reindexed to match DataFrame index.\n"
     ]
    },
    {
     "name": "stdout",
     "output_type": "stream",
     "text": [
      "Attack duration: 0 days 00:00:45.173037\n"
     ]
    },
    {
     "name": "stderr",
     "output_type": "stream",
     "text": [
      "/home/omar/anaconda3/lib/python3.6/site-packages/ipykernel/__main__.py:16: UserWarning: Boolean Series key will be reindexed to match DataFrame index.\n"
     ]
    },
    {
     "name": "stdout",
     "output_type": "stream",
     "text": [
      "Attack duration: 0 days 00:00:33.000275\n"
     ]
    },
    {
     "name": "stderr",
     "output_type": "stream",
     "text": [
      "/home/omar/anaconda3/lib/python3.6/site-packages/ipykernel/__main__.py:19: UserWarning: Boolean Series key will be reindexed to match DataFrame index.\n"
     ]
    },
    {
     "name": "stdout",
     "output_type": "stream",
     "text": [
      "Attack duration: 0 days 00:00:33.000275\n"
     ]
    },
    {
     "name": "stderr",
     "output_type": "stream",
     "text": [
      "/home/omar/anaconda3/lib/python3.6/site-packages/ipykernel/__main__.py:22: UserWarning: Boolean Series key will be reindexed to match DataFrame index.\n"
     ]
    },
    {
     "name": "stdout",
     "output_type": "stream",
     "text": [
      "Attack duration: 0 days 00:00:33.000275\n"
     ]
    }
   ],
   "source": [
    "def attack_duration(attack_records):\n",
    "    print('Attack duration: {}'.format(max(attack_records['frame.time_epoch'])-min(attack_records['frame.time_epoch'])))\n",
    "\n",
    "attack_duration(get_attack_records(1))\n",
    "attack_duration(get_attack_records(2))\n",
    "attack_duration(get_attack_records(3))\n",
    "attack_duration(get_attack_records(4))"
   ]
  },
  {
   "cell_type": "markdown",
   "metadata": {},
   "source": [
    "### 11. How many (only) attack records are in total?"
   ]
  },
  {
   "cell_type": "code",
   "execution_count": 149,
   "metadata": {
    "collapsed": false
   },
   "outputs": [
    {
     "name": "stderr",
     "output_type": "stream",
     "text": [
      "/home/omar/anaconda3/lib/python3.6/site-packages/ipykernel/__main__.py:13: UserWarning: Boolean Series key will be reindexed to match DataFrame index.\n"
     ]
    },
    {
     "data": {
      "text/plain": [
       "180522"
      ]
     },
     "execution_count": 149,
     "metadata": {},
     "output_type": "execute_result"
    }
   ],
   "source": [
    "get_attack_records(1).shape[0]"
   ]
  },
  {
   "cell_type": "markdown",
   "metadata": {},
   "source": [
    "### 12. How many (source) IPs were involved in the attack?"
   ]
  },
  {
   "cell_type": "code",
   "execution_count": 150,
   "metadata": {
    "collapsed": false
   },
   "outputs": [
    {
     "name": "stderr",
     "output_type": "stream",
     "text": [
      "/home/omar/anaconda3/lib/python3.6/site-packages/ipykernel/__main__.py:13: UserWarning: Boolean Series key will be reindexed to match DataFrame index.\n"
     ]
    },
    {
     "data": {
      "text/plain": [
       "79"
      ]
     },
     "execution_count": 150,
     "metadata": {},
     "output_type": "execute_result"
    }
   ],
   "source": [
    "len(get_attack_records(1)['ip.src'].unique())"
   ]
  },
  {
   "cell_type": "markdown",
   "metadata": {},
   "source": [
    "### 13. Which IP address is NOT in the list of the top 5 IP addresses that sent more PACKETS?"
   ]
  },
  {
   "cell_type": "code",
   "execution_count": 153,
   "metadata": {
    "collapsed": false
   },
   "outputs": [
    {
     "name": "stderr",
     "output_type": "stream",
     "text": [
      "/home/omar/anaconda3/lib/python3.6/site-packages/ipykernel/__main__.py:13: UserWarning: Boolean Series key will be reindexed to match DataFrame index.\n"
     ]
    },
    {
     "data": {
      "text/plain": [
       "37.123.96.179    16590\n",
       "61.93.9.158      12103\n",
       "121.32.89.198     9435\n",
       "89.228.8.86       7170\n",
       "189.90.244.42     6713\n",
       "Name: ip.src, dtype: int64"
      ]
     },
     "execution_count": 153,
     "metadata": {},
     "output_type": "execute_result"
    }
   ],
   "source": [
    "get_attack_records(1)['ip.src'].value_counts().head(5)"
   ]
  },
  {
   "cell_type": "markdown",
   "metadata": {},
   "source": [
    "### 14. Which IP address is NOT in the list of the top 5 IP addresses that sent more BYTES?"
   ]
  },
  {
   "cell_type": "code",
   "execution_count": 156,
   "metadata": {
    "collapsed": false
   },
   "outputs": [
    {
     "name": "stderr",
     "output_type": "stream",
     "text": [
      "/home/omar/anaconda3/lib/python3.6/site-packages/ipykernel/__main__.py:13: UserWarning: Boolean Series key will be reindexed to match DataFrame index.\n"
     ]
    }
   ],
   "source": [
    "attack_records = get_attack_records(1)"
   ]
  },
  {
   "cell_type": "code",
   "execution_count": 166,
   "metadata": {
    "collapsed": false
   },
   "outputs": [
    {
     "data": {
      "text/html": [
       "<div>\n",
       "<table border=\"1\" class=\"dataframe\">\n",
       "  <thead>\n",
       "    <tr style=\"text-align: right;\">\n",
       "      <th></th>\n",
       "      <th>frame.len</th>\n",
       "    </tr>\n",
       "    <tr>\n",
       "      <th>ip.src</th>\n",
       "      <th></th>\n",
       "    </tr>\n",
       "  </thead>\n",
       "  <tbody>\n",
       "    <tr>\n",
       "      <th>37.123.96.179</th>\n",
       "      <td>432970760</td>\n",
       "    </tr>\n",
       "    <tr>\n",
       "      <th>61.93.9.158</th>\n",
       "      <td>293920112</td>\n",
       "    </tr>\n",
       "    <tr>\n",
       "      <th>121.32.89.198</th>\n",
       "      <td>173137256</td>\n",
       "    </tr>\n",
       "    <tr>\n",
       "      <th>189.90.244.42</th>\n",
       "      <td>161686336</td>\n",
       "    </tr>\n",
       "    <tr>\n",
       "      <th>60.250.159.61</th>\n",
       "      <td>133692344</td>\n",
       "    </tr>\n",
       "  </tbody>\n",
       "</table>\n",
       "</div>"
      ],
      "text/plain": [
       "               frame.len\n",
       "ip.src                  \n",
       "37.123.96.179  432970760\n",
       "61.93.9.158    293920112\n",
       "121.32.89.198  173137256\n",
       "189.90.244.42  161686336\n",
       "60.250.159.61  133692344"
      ]
     },
     "execution_count": 166,
     "metadata": {},
     "output_type": "execute_result"
    }
   ],
   "source": [
    "top5_src_ips = attack_records.groupby('ip.src').agg({'frame.len': np.sum}).sort_values('frame.len', ascending=False).head(5)\n",
    "top5_src_ips"
   ]
  },
  {
   "cell_type": "markdown",
   "metadata": {},
   "source": [
    "### 15. In which country the IP address that sent more traffic (packets and data) is located?"
   ]
  },
  {
   "cell_type": "code",
   "execution_count": 168,
   "metadata": {
    "collapsed": false
   },
   "outputs": [
    {
     "name": "stderr",
     "output_type": "stream",
     "text": [
      "/home/omar/anaconda3/lib/python3.6/site-packages/ipykernel/__main__.py:13: UserWarning: Boolean Series key will be reindexed to match DataFrame index.\n"
     ]
    },
    {
     "data": {
      "text/plain": [
       "'37.123.96.179'"
      ]
     },
     "execution_count": 168,
     "metadata": {},
     "output_type": "execute_result"
    }
   ],
   "source": [
    "attack_records = get_attack_records(1)\n",
    "top5_src_ips = attack_records.groupby('ip.src').agg({'frame.len': np.sum}).sort_values('frame.len', ascending=False).head(5)\n",
    "top_ip = top5_src_ips.index[0]\n",
    "top_ip"
   ]
  },
  {
   "cell_type": "code",
   "execution_count": 170,
   "metadata": {
    "collapsed": false
   },
   "outputs": [
    {
     "name": "stdout",
     "output_type": "stream",
     "text": [
      "b'Warning: RIPE flags used with a traditional server.\\nAS      | IP               | BGP Prefix          | CC | Registry | Allocated  | AS Name\\n57844   | 37.123.96.179    | 37.123.96.0/24      | TR | ripencc  | 2012-02-15 | SALAY, TR\\n'\n"
     ]
    }
   ],
   "source": [
    "import subprocess\n",
    "p = subprocess.Popen(['whois', '-h', 'whois.cymru.com','\\\"', '-v',top_ip,'\\\"' ], stdout=subprocess.PIPE)\n",
    "print(p.communicate()[0])"
   ]
  }
 ],
 "metadata": {
  "kernelspec": {
   "display_name": "Python 3",
   "language": "python",
   "name": "python3"
  },
  "language_info": {
   "codemirror_mode": {
    "name": "ipython",
    "version": 3
   },
   "file_extension": ".py",
   "mimetype": "text/x-python",
   "name": "python",
   "nbconvert_exporter": "python",
   "pygments_lexer": "ipython3",
   "version": "3.6.0"
  }
 },
 "nbformat": 4,
 "nbformat_minor": 0
}
